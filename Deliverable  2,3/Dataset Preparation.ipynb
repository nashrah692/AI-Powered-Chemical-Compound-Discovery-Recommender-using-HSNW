{
 "cells": [
  {
   "cell_type": "markdown",
   "id": "603c7e33",
   "metadata": {},
   "source": [
    "# LIBRARIES"
   ]
  },
  {
   "cell_type": "code",
   "execution_count": 3,
   "id": "693a2eea",
   "metadata": {},
   "outputs": [],
   "source": [
    "import pandas as pd\n",
    "from rdkit import Chem\n",
    "from rdkit.Chem import AllChem\n",
    "import numpy as np"
   ]
  },
  {
   "cell_type": "markdown",
   "id": "5ba8a13a",
   "metadata": {},
   "source": [
    "# DATASET READING "
   ]
  },
  {
   "cell_type": "code",
   "execution_count": 4,
   "id": "60602a6e",
   "metadata": {},
   "outputs": [],
   "source": [
    "df = pd.read_csv(\"SMILES_Big_Data_Set.csv\")"
   ]
  },
  {
   "cell_type": "markdown",
   "id": "87aa60bc",
   "metadata": {},
   "source": [
    "# PREVIEW"
   ]
  },
  {
   "cell_type": "code",
   "execution_count": 5,
   "id": "051d0768",
   "metadata": {},
   "outputs": [
    {
     "name": "stdout",
     "output_type": "stream",
     "text": [
      "Initial dataset shape: (16087, 5)\n",
      "                                              SMILES  pIC50  \\\n",
      "0         O=S(=O)(Nc1cccc(-c2cnc3ccccc3n2)c1)c1cccs1   4.26   \n",
      "1  O=c1cc(-c2nc(-c3ccc(-c4cn(CCP(=O)(O)O)nn4)cc3)...   4.34   \n",
      "2             NC(=O)c1ccc2c(c1)nc(C1CCC(O)CC1)n2CCCO   4.53   \n",
      "3                NCCCn1c(C2CCNCC2)nc2cc(C(N)=O)ccc21   4.56   \n",
      "4                  CNC(=S)Nc1cccc(-c2cnc3ccccc3n2)c1   4.59   \n",
      "\n",
      "                                                mol  num_atoms    logP  \n",
      "0  <rdkit.Chem.rdchem.Mol object at 0x7f59df45bc30>         25  4.1591  \n",
      "1  <rdkit.Chem.rdchem.Mol object at 0x7f59a320c9e0>         36  3.6743  \n",
      "2  <rdkit.Chem.rdchem.Mol object at 0x7f59a320cac0>         23  1.5361  \n",
      "3  <rdkit.Chem.rdchem.Mol object at 0x7f59a320cba0>         22  0.9510  \n",
      "4  <rdkit.Chem.rdchem.Mol object at 0x7f59a320c7b0>         21  3.2130  \n"
     ]
    }
   ],
   "source": [
    "print(\"Initial dataset shape:\", df.shape)\n",
    "print(df.head())"
   ]
  },
  {
   "cell_type": "markdown",
   "id": "ed271c44",
   "metadata": {},
   "source": [
    "# CONVERT SMILES TO FINGERPRINT\n",
    "\n",
    "A fingerprint is a way of numerically representing a molecule's structure so that computers can understand and compare molecules efficiently."
   ]
  },
  {
   "cell_type": "code",
   "execution_count": 6,
   "id": "79314a58",
   "metadata": {},
   "outputs": [],
   "source": [
    "def smiles_to_fingerprint(smiles, radius=2, n_bits=2048):\n",
    "    try:\n",
    "        mol = Chem.MolFromSmiles(smiles)\n",
    "        if mol is None:\n",
    "            return None\n",
    "        fp = AllChem.GetMorganFingerprintAsBitVect(mol, radius, nBits=n_bits)\n",
    "        return list(fp)\n",
    "    except:\n",
    "        return None"
   ]
  },
  {
   "cell_type": "markdown",
   "id": "97248e38",
   "metadata": {},
   "source": [
    "# GENERATING FINGERPRINTS FOR EACH COMPOUND"
   ]
  },
  {
   "cell_type": "code",
   "execution_count": 7,
   "id": "1602586c",
   "metadata": {},
   "outputs": [],
   "source": [
    "df['fingerprint'] = df['SMILES'].apply(smiles_to_fingerprint)"
   ]
  },
  {
   "cell_type": "markdown",
   "id": "a9a32b63",
   "metadata": {},
   "source": [
    "# REMOVING ROWS WITH INVALID SMILES "
   ]
  },
  {
   "cell_type": "code",
   "execution_count": 8,
   "id": "779e2646",
   "metadata": {},
   "outputs": [
    {
     "name": "stdout",
     "output_type": "stream",
     "text": [
      "Cleaned dataset shape: (16087, 6)\n"
     ]
    }
   ],
   "source": [
    "df = df[df['fingerprint'].notnull()]\n",
    "print(\"Cleaned dataset shape:\", df.shape)"
   ]
  },
  {
   "cell_type": "markdown",
   "id": "8216f9f5",
   "metadata": {},
   "source": [
    "# FINGERPRINTS TO NUMPY ARRAY "
   ]
  },
  {
   "cell_type": "code",
   "execution_count": 9,
   "id": "c81f6d21",
   "metadata": {},
   "outputs": [],
   "source": [
    "fingerprint_matrix = np.array(df['fingerprint'].tolist())"
   ]
  },
  {
   "cell_type": "markdown",
   "id": "cd90b635",
   "metadata": {},
   "source": [
    "# SAVING PROCESSED DATA "
   ]
  },
  {
   "cell_type": "code",
   "execution_count": 10,
   "id": "2d563a1c",
   "metadata": {},
   "outputs": [],
   "source": [
    "np.save(\"compound_features.npy\", fingerprint_matrix)\n",
    "df[['SMILES']].to_csv(\"compound_metadata.csv\", index=False)"
   ]
  },
  {
   "cell_type": "markdown",
   "id": "9649ffbf",
   "metadata": {},
   "source": [
    "# FINAL SHAPE "
   ]
  },
  {
   "cell_type": "code",
   "execution_count": 11,
   "id": "80fb2805",
   "metadata": {},
   "outputs": [
    {
     "name": "stdout",
     "output_type": "stream",
     "text": [
      "Fingerprint matrix shape: (16087, 2048)\n"
     ]
    }
   ],
   "source": [
    "print(\"Fingerprint matrix shape:\", fingerprint_matrix.shape)"
   ]
  }
 ],
 "metadata": {
  "kernelspec": {
   "display_name": "Python 3 (ipykernel)",
   "language": "python",
   "name": "python3"
  },
  "language_info": {
   "codemirror_mode": {
    "name": "ipython",
    "version": 3
   },
   "file_extension": ".py",
   "mimetype": "text/x-python",
   "name": "python",
   "nbconvert_exporter": "python",
   "pygments_lexer": "ipython3",
   "version": "3.11.4"
  }
 },
 "nbformat": 4,
 "nbformat_minor": 5
}
